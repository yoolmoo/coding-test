{
 "cells": [
  {
   "cell_type": "markdown",
   "id": "16759bad",
   "metadata": {},
   "source": [
    "# 자료형\n",
    "- 수 자료형 (정수형, 실수형)\n",
    "- 리스트 자료형 (인덱싱, 슬라이싱, 리스트 컴프리헨션, 관련메서드 등)\n",
    "- 문자열 자료형\n",
    "- 튜플 자료형\n",
    "- 사전 자료형\n",
    "- 집합 자료형\n"
   ]
  },
  {
   "cell_type": "markdown",
   "id": "e9f06d99",
   "metadata": {},
   "source": [
    "## 수 자료형"
   ]
  },
  {
   "cell_type": "markdown",
   "id": "e7995a6a",
   "metadata": {},
   "source": [
    "### 실수형"
   ]
  },
  {
   "cell_type": "code",
   "execution_count": 1,
   "id": "d7d92f47",
   "metadata": {},
   "outputs": [
    {
     "name": "stdout",
     "output_type": "stream",
     "text": [
      "1000\n"
     ]
    }
   ],
   "source": [
    "a = 1000 #양의 정수\n",
    "print(a)"
   ]
  },
  {
   "cell_type": "code",
   "execution_count": 2,
   "id": "13b29843",
   "metadata": {},
   "outputs": [
    {
     "name": "stdout",
     "output_type": "stream",
     "text": [
      "-7\n"
     ]
    }
   ],
   "source": [
    "a = -7 #음의 정수\n",
    "print(a)"
   ]
  },
  {
   "cell_type": "code",
   "execution_count": 3,
   "id": "0a22416e",
   "metadata": {},
   "outputs": [
    {
     "name": "stdout",
     "output_type": "stream",
     "text": [
      "0\n"
     ]
    }
   ],
   "source": [
    "#0\n",
    "a = 0\n",
    "print(a)"
   ]
  },
  {
   "cell_type": "markdown",
   "id": "e4f6c712",
   "metadata": {},
   "source": [
    "### 실수형"
   ]
  },
  {
   "cell_type": "code",
   "execution_count": 4,
   "id": "7887a7fb",
   "metadata": {},
   "outputs": [
    {
     "name": "stdout",
     "output_type": "stream",
     "text": [
      "153.93\n"
     ]
    }
   ],
   "source": [
    "#양의 실수\n",
    "a = 153.93\n",
    "print(a)"
   ]
  },
  {
   "cell_type": "code",
   "execution_count": 5,
   "id": "98c6501b",
   "metadata": {},
   "outputs": [
    {
     "name": "stdout",
     "output_type": "stream",
     "text": [
      "-1837.2\n"
     ]
    }
   ],
   "source": [
    "#음의 실수\n",
    "a = -1837.2\n",
    "print(a)"
   ]
  },
  {
   "cell_type": "code",
   "execution_count": 6,
   "id": "f2096ef1",
   "metadata": {},
   "outputs": [
    {
     "name": "stdout",
     "output_type": "stream",
     "text": [
      "5.0\n"
     ]
    }
   ],
   "source": [
    "#소수부가 0일때 0을 생략\n",
    "a = 5.\n",
    "print(a)"
   ]
  },
  {
   "cell_type": "code",
   "execution_count": 7,
   "id": "2f7e6584",
   "metadata": {},
   "outputs": [
    {
     "name": "stdout",
     "output_type": "stream",
     "text": [
      "-0.7\n"
     ]
    }
   ],
   "source": [
    "#정수부가 0일때 0을 생략\n",
    "a = -.7\n",
    "print(a)"
   ]
  },
  {
   "cell_type": "markdown",
   "id": "f2381778",
   "metadata": {},
   "source": [
    "### 실수형_지수표현"
   ]
  },
  {
   "cell_type": "code",
   "execution_count": 9,
   "id": "e87480af",
   "metadata": {},
   "outputs": [
    {
     "name": "stdout",
     "output_type": "stream",
     "text": [
      "1000000000.0\n"
     ]
    }
   ],
   "source": [
    "#10억의 지수 표현 방식\n",
    "a = 1e9\n",
    "print(a)"
   ]
  },
  {
   "cell_type": "code",
   "execution_count": 10,
   "id": "18f399d5",
   "metadata": {},
   "outputs": [
    {
     "name": "stdout",
     "output_type": "stream",
     "text": [
      "752.5\n"
     ]
    }
   ],
   "source": [
    "#752.7\n",
    "a = 75.25e1\n",
    "print(a)"
   ]
  },
  {
   "cell_type": "code",
   "execution_count": 11,
   "id": "b7d51e43",
   "metadata": {},
   "outputs": [
    {
     "name": "stdout",
     "output_type": "stream",
     "text": [
      "3.954\n"
     ]
    }
   ],
   "source": [
    "#3.954\n",
    "a = 3954e-3\n",
    "print(a)"
   ]
  },
  {
   "cell_type": "markdown",
   "id": "c0773fca",
   "metadata": {},
   "source": [
    "### 실수정확도의 한계"
   ]
  },
  {
   "cell_type": "code",
   "execution_count": 12,
   "id": "3439a77a",
   "metadata": {},
   "outputs": [
    {
     "name": "stdout",
     "output_type": "stream",
     "text": [
      "0.8999999999999999\n",
      "False\n"
     ]
    }
   ],
   "source": [
    "a = 0.3+0.6\n",
    "print(a)\n",
    "\n",
    "if a == 0.9:\n",
    "    print(True)\n",
    "else:\n",
    "    print(False)"
   ]
  },
  {
   "cell_type": "markdown",
   "id": "8342ce03",
   "metadata": {},
   "source": [
    "### round함수 예시"
   ]
  },
  {
   "cell_type": "code",
   "execution_count": 13,
   "id": "4584e5e0",
   "metadata": {},
   "outputs": [
    {
     "name": "stdout",
     "output_type": "stream",
     "text": [
      "0.9\n",
      "False\n"
     ]
    }
   ],
   "source": [
    "a = 0.3 + 0.6\n",
    "print(round(a, 4))\n",
    "\n",
    "if round(a, 4) == 0.:\n",
    "    print(True)\n",
    "else:\n",
    "    print(False)"
   ]
  },
  {
   "cell_type": "markdown",
   "id": "6a3aa6c4",
   "metadata": {},
   "source": [
    "### 수 자료형의 연산"
   ]
  },
  {
   "cell_type": "code",
   "execution_count": 14,
   "id": "175d4bda",
   "metadata": {},
   "outputs": [
    {
     "name": "stdout",
     "output_type": "stream",
     "text": [
      "2.3333333333333335\n",
      "1\n",
      "2\n"
     ]
    }
   ],
   "source": [
    "a  = 7\n",
    "b = 3\n",
    "\n",
    "#나누기\n",
    "print(a/b)\n",
    "\n",
    "#나머지\n",
    "print(a%b)\n",
    "\n",
    "#몫\n",
    "print(a //b)"
   ]
  },
  {
   "cell_type": "markdown",
   "id": "fc3214e3",
   "metadata": {},
   "source": [
    "### 거듭연산자"
   ]
  },
  {
   "cell_type": "code",
   "execution_count": 15,
   "id": "0df5357a",
   "metadata": {},
   "outputs": [
    {
     "name": "stdout",
     "output_type": "stream",
     "text": [
      "125\n"
     ]
    }
   ],
   "source": [
    "a = 5\n",
    "b = 3\n",
    "\n",
    "print(a ** b)"
   ]
  },
  {
   "cell_type": "markdown",
   "id": "3ac67aff",
   "metadata": {},
   "source": [
    "## 리스트 자료형"
   ]
  },
  {
   "cell_type": "markdown",
   "id": "24cd451a",
   "metadata": {},
   "source": [
    "### 리스트 만들기"
   ]
  },
  {
   "cell_type": "code",
   "execution_count": 17,
   "id": "41ae62b4",
   "metadata": {},
   "outputs": [
    {
     "name": "stdout",
     "output_type": "stream",
     "text": [
      "[1, 2, 3, 4, 5, 6, 7, 8, 9]\n",
      "5\n",
      "[]\n"
     ]
    }
   ],
   "source": [
    "a = [1, 2, 3, 4, 5, 6, 7, 8, 9]\n",
    "print(a)\n",
    "\n",
    "#인데스 4, 즉, 다섯번째 원소에 접근\n",
    "print(a[4])\n",
    "\n",
    "#반 리스트 선언방법1)\n",
    "a = list()\n",
    "print(a)"
   ]
  },
  {
   "cell_type": "markdown",
   "id": "784ef840",
   "metadata": {},
   "source": [
    "### 리스트의 인덱싱과 슬라이싱"
   ]
  },
  {
   "cell_type": "code",
   "execution_count": null,
   "id": "4ccfee5f",
   "metadata": {},
   "outputs": [],
   "source": []
  },
  {
   "cell_type": "markdown",
   "id": "2b8c7ba7",
   "metadata": {},
   "source": [
    "### 리스트 컴프리헨션"
   ]
  },
  {
   "cell_type": "code",
   "execution_count": null,
   "id": "a7cc059e",
   "metadata": {},
   "outputs": [],
   "source": []
  },
  {
   "cell_type": "markdown",
   "id": "95fbf5b3",
   "metadata": {},
   "source": [
    "### 리스트관련 기타 메서드"
   ]
  },
  {
   "cell_type": "code",
   "execution_count": null,
   "id": "09eb3fca",
   "metadata": {},
   "outputs": [],
   "source": []
  },
  {
   "cell_type": "code",
   "execution_count": null,
   "id": "591296cb",
   "metadata": {},
   "outputs": [],
   "source": []
  },
  {
   "cell_type": "markdown",
   "id": "d4ab3c0d",
   "metadata": {},
   "source": []
  },
  {
   "cell_type": "markdown",
   "id": "0ebf4339",
   "metadata": {},
   "source": []
  },
  {
   "cell_type": "markdown",
   "id": "116b48f6",
   "metadata": {},
   "source": []
  },
  {
   "cell_type": "code",
   "execution_count": null,
   "id": "e0b571bc",
   "metadata": {},
   "outputs": [],
   "source": []
  },
  {
   "cell_type": "code",
   "execution_count": null,
   "id": "4add5834",
   "metadata": {},
   "outputs": [],
   "source": []
  },
  {
   "cell_type": "markdown",
   "id": "7ecaaea0",
   "metadata": {},
   "source": [
    "## 문자열 자료형"
   ]
  },
  {
   "cell_type": "code",
   "execution_count": null,
   "id": "d56efc7a",
   "metadata": {},
   "outputs": [],
   "source": []
  },
  {
   "cell_type": "code",
   "execution_count": null,
   "id": "17634e93",
   "metadata": {},
   "outputs": [],
   "source": []
  },
  {
   "cell_type": "markdown",
   "id": "df09c8d0",
   "metadata": {},
   "source": [
    "## 튜플 자료형"
   ]
  },
  {
   "cell_type": "code",
   "execution_count": null,
   "id": "9d8438eb",
   "metadata": {},
   "outputs": [],
   "source": []
  },
  {
   "cell_type": "markdown",
   "id": "4b71f594",
   "metadata": {},
   "source": [
    "## 사전 자료형"
   ]
  },
  {
   "cell_type": "code",
   "execution_count": null,
   "id": "70cd81db",
   "metadata": {},
   "outputs": [],
   "source": []
  },
  {
   "cell_type": "markdown",
   "id": "5d53c8d8",
   "metadata": {},
   "source": [
    "## 집합 자료형"
   ]
  },
  {
   "cell_type": "markdown",
   "id": "7ea7915a",
   "metadata": {},
   "source": []
  },
  {
   "cell_type": "code",
   "execution_count": null,
   "id": "0f9ffba8",
   "metadata": {},
   "outputs": [],
   "source": []
  },
  {
   "cell_type": "code",
   "execution_count": null,
   "id": "b6a84230",
   "metadata": {},
   "outputs": [],
   "source": []
  },
  {
   "cell_type": "code",
   "execution_count": null,
   "id": "157674a8",
   "metadata": {},
   "outputs": [],
   "source": []
  },
  {
   "cell_type": "code",
   "execution_count": null,
   "id": "a2625955",
   "metadata": {},
   "outputs": [],
   "source": []
  },
  {
   "cell_type": "code",
   "execution_count": null,
   "id": "f07427ed",
   "metadata": {},
   "outputs": [],
   "source": []
  }
 ],
 "metadata": {
  "kernelspec": {
   "display_name": "Python 3 (ipykernel)",
   "language": "python",
   "name": "python3"
  },
  "language_info": {
   "codemirror_mode": {
    "name": "ipython",
    "version": 3
   },
   "file_extension": ".py",
   "mimetype": "text/x-python",
   "name": "python",
   "nbconvert_exporter": "python",
   "pygments_lexer": "ipython3",
   "version": "3.11.4"
  }
 },
 "nbformat": 4,
 "nbformat_minor": 5
}
