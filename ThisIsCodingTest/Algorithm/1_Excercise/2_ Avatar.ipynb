{
 "cells": [
  {
   "cell_type": "markdown",
   "id": "48b898d6",
   "metadata": {},
   "source": [
    "# 2_구현"
   ]
  },
  {
   "cell_type": "markdown",
   "id": "9a8b2461",
   "metadata": {},
   "source": [
    "## 1. 아이디어를 코드로 바꾸는 구현"
   ]
  },
  {
   "cell_type": "markdown",
   "id": "efdb25fe",
   "metadata": {},
   "source": [
    "#### 1-1. 상하좌우 답안 "
   ]
  },
  {
   "cell_type": "code",
   "execution_count": 4,
   "id": "03c8a68b",
   "metadata": {},
   "outputs": [
    {
     "name": "stdout",
     "output_type": "stream",
     "text": [
      "5\n",
      "R R R U D D\n",
      "3 4\n"
     ]
    }
   ],
   "source": [
    "# N을 입력받기\n",
    "n = int(input())\n",
    "x, y = 1,1\n",
    "plans = input().split()\n",
    "\n",
    "#L, R, U, D에 따른 이동 방향\n",
    "dx = [0, 0, -1, 1]\n",
    "dy = [-1, 1, 0, 0]\n",
    "move_types = ['L', 'R', 'U', 'D']\n",
    "\n",
    "#이동 계획을 하나씩 확인\n",
    "for plan in plans:\n",
    "    #이동 후 좌표 구하기\n",
    "    for i in range(len(move_types)):\n",
    "        if plan == move_types[i]:\n",
    "            nx = x + dx[i]\n",
    "            ny = y + dy[i]\n",
    "        #공간을 벗어나는 경우 무시\n",
    "    if nx < 1 or ny < 1 or nx > n or ny > n:\n",
    "        continue\n",
    "    #이동 수행\n",
    "    x, y = nx, ny\n",
    "print(x, y)"
   ]
  },
  {
   "cell_type": "markdown",
   "id": "c88bdc99",
   "metadata": {},
   "source": [
    "#### 1-2. 시각 답안"
   ]
  },
  {
   "cell_type": "code",
   "execution_count": 6,
   "id": "9ef30c27",
   "metadata": {},
   "outputs": [
    {
     "name": "stdout",
     "output_type": "stream",
     "text": [
      "5\n",
      "11475\n"
     ]
    }
   ],
   "source": [
    "#H를 입력받기\n",
    "h = int(input())\n",
    "\n",
    "count = 0\n",
    "for i in range(h+1):\n",
    "    for j in range(60):\n",
    "        for k in range(60):\n",
    "            #매 시간 안에 '3'이 포함되어 있다면 카운트 증가\n",
    "            if '3' in str(i)+str(j)+str(k):\n",
    "                count += 1\n",
    "\n",
    "print(count)"
   ]
  },
  {
   "cell_type": "markdown",
   "id": "14f523bc",
   "metadata": {},
   "source": [
    "## 2. 왕실의 나이트"
   ]
  },
  {
   "cell_type": "markdown",
   "id": "da3a6b94",
   "metadata": {},
   "source": [
    "#### 답안"
   ]
  },
  {
   "cell_type": "code",
   "execution_count": 10,
   "id": "37dacd30",
   "metadata": {},
   "outputs": [
    {
     "name": "stdout",
     "output_type": "stream",
     "text": [
      "a1\n",
      "2\n"
     ]
    }
   ],
   "source": [
    "#현재 나이트의 우치 입력받기\n",
    "input_data = input()\n",
    "row = int(input_data[1])\n",
    "column = int(ord(input_data[0]))-int(ord('a'))+1\n",
    "\n",
    "#나이트가 이동할 수 있는 8가지 빙향 정의\n",
    "steps = [(-2,-1),(-1,-2),(1,-2),(2,-1),(2,1),(1,2),(-1,2),(-2,1)]\n",
    "\n",
    "#8가지 방향에 대하여 각 위치로 이동이 가능한지 확인\n",
    "result = 0\n",
    "for step in steps:\n",
    "    #이동하고자 하는 위치 확인\n",
    "    next_row = row +step[0]\n",
    "    next_column = column + step[1]\n",
    "    #해당 위치로 이동이 가능하다면 카우늩 증가\n",
    "    if next_row >= 1 and next_row <=8 and next_column >= 1 and next_column <= 8:\n",
    "        result += 1\n",
    "    \n",
    "print(result)"
   ]
  },
  {
   "cell_type": "markdown",
   "id": "a652eaeb",
   "metadata": {},
   "source": [
    "## 3. 게임 개발"
   ]
  },
  {
   "cell_type": "markdown",
   "id": "71996a8e",
   "metadata": {},
   "source": [
    "#### 답안"
   ]
  },
  {
   "cell_type": "code",
   "execution_count": 13,
   "id": "a621017b",
   "metadata": {},
   "outputs": [
    {
     "name": "stdout",
     "output_type": "stream",
     "text": [
      "4 4\n",
      "1 1 0\n",
      "1 1 1 1\n",
      "1 0 0 1\n",
      "1 1 0 1\n",
      "1 1 1 1\n",
      "3\n"
     ]
    }
   ],
   "source": [
    "#N,M을 공백으로 구분하여 입력받기\n",
    "n, m = map(int, input().split())\n",
    "\n",
    "#방문한 위치를 저장하기 위한 맵을 생성하여 0으로 초기화\n",
    "d = [[0] * m for _ in range(n)]\n",
    "#현재 캐릭터의 X좌표, Y좌표, 방향을 입력받기\n",
    "x, y, direction = map(int, input().split())\n",
    "d[x][y] = 1 #현재 좌표 방문 처리\n",
    "\n",
    "#전체 맵 정보를 입력받기\n",
    "array = []\n",
    "for i in range(n):\n",
    "    array.append(list(map(int, input().split())))\n",
    "    \n",
    "# 북, 동, 남, 서 방향 정의\n",
    "dx = [-1, 0, 1, 0]\n",
    "dy = [0, 1, 0, -1]\n",
    "\n",
    "#왼쪽으로 회전\n",
    "def turn_left():\n",
    "    global direction\n",
    "    direction -= 1\n",
    "    if direction == -1:\n",
    "        direction = 3\n",
    "        \n",
    "#시물레이션 시작\n",
    "count = 1\n",
    "turn_time = 0\n",
    "while True:\n",
    "    #왼쪽으로 회전\n",
    "    turn_left()\n",
    "    nx = x + dx[direction]\n",
    "    ny = y + dy[direction]\n",
    "    #회전한 이후 정면에 가보지 않은 칸이 존재하는 경우 이동\n",
    "    if d[nx][ny] == 0 and array[nx][ny] == 0:\n",
    "        d[nx][ny] = 1\n",
    "        x = nx\n",
    "        y = ny\n",
    "        count += 1\n",
    "        turn_time = 0\n",
    "        continue  \n",
    "    #회전한 이후 장면에 가보지 않은 칸이 없거나 바다인 경우\n",
    "    else:\n",
    "        turn_time += 1\n",
    "    #네 방향 모두 갈 수 없는 경우\n",
    "    if turn_time == 4:\n",
    "        nx = x - dx[direction]\n",
    "        ny = y - dy[direction]\n",
    "        #뒤로 갈 수 있다면 이동하기\n",
    "        if array[nx][ny] == 0:\n",
    "            x = nx\n",
    "            y = ny\n",
    "        #뒤로 바다가 막혀있는 경우\n",
    "        else:\n",
    "            break\n",
    "        turn_time = 0\n",
    "        \n",
    "#정답 출력\n",
    "print(count)"
   ]
  }
 ],
 "metadata": {
  "kernelspec": {
   "display_name": "Python 3 (ipykernel)",
   "language": "python",
   "name": "python3"
  },
  "language_info": {
   "codemirror_mode": {
    "name": "ipython",
    "version": 3
   },
   "file_extension": ".py",
   "mimetype": "text/x-python",
   "name": "python",
   "nbconvert_exporter": "python",
   "pygments_lexer": "ipython3",
   "version": "3.11.4"
  }
 },
 "nbformat": 4,
 "nbformat_minor": 5
}
