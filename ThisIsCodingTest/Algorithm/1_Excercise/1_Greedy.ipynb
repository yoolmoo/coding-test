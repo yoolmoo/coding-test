{
 "cells": [
  {
   "cell_type": "markdown",
   "id": "89f209b7",
   "metadata": {},
   "source": [
    "# 1_그리디"
   ]
  },
  {
   "cell_type": "markdown",
   "id": "5e9f4f3b",
   "metadata": {},
   "source": [
    "## 1. 거스름돈"
   ]
  },
  {
   "cell_type": "code",
   "execution_count": 2,
   "id": "1c14357b",
   "metadata": {},
   "outputs": [
    {
     "name": "stdout",
     "output_type": "stream",
     "text": [
      "6\n"
     ]
    }
   ],
   "source": [
    "n = 1260\n",
    "count = 0\n",
    "\n",
    "#큰 단위의 화폐부터 차례대로 확인\n",
    "coin_types = [500, 100, 50, 10]\n",
    "\n",
    "for coin in coin_types:\n",
    "    count += n // coin #해당 화폐로 거슬러 줄 수 있는 동전의 개수 세기\n",
    "                        #count에다가 현재 동전으로 지불할 수 있는 최대 개수(n//coin)를 더한다\n",
    "    n %= coin\n",
    "    \n",
    "print(count)"
   ]
  },
  {
   "cell_type": "markdown",
   "id": "64ba1081",
   "metadata": {},
   "source": [
    "## 2. 큰 수의 법칙"
   ]
  },
  {
   "cell_type": "markdown",
   "id": "42192e86",
   "metadata": {},
   "source": [
    "- map(적용시킬 함수, 적용할 값들)"
   ]
  },
  {
   "cell_type": "markdown",
   "id": "07474862",
   "metadata": {},
   "source": [
    "#### 단순하게 푸는 답안 예시"
   ]
  },
  {
   "cell_type": "code",
   "execution_count": 23,
   "id": "7a538da9",
   "metadata": {},
   "outputs": [
    {
     "name": "stdout",
     "output_type": "stream",
     "text": [
      "5 8 3\n",
      "2 4 5 4 6\n",
      "46\n"
     ]
    }
   ],
   "source": [
    "# n, m, k를 공배긍로 구분하여 입력받기\n",
    "n, m, k = map(int, input().split())\n",
    "\n",
    "#n개의 수를 공백으로 구분하여 입력받기\n",
    "data = list(map(int, input().split()))\n",
    "\n",
    "data.sort() #입력받은 수들 정렬하기\n",
    "first = data[n-1] #가장 큰 수\n",
    "second = data[n-2] # 두번째로 큰 수\n",
    "\n",
    "result = 0\n",
    "\n",
    "while True:\n",
    "    for i in range(k): #가장 큰 수를 k번 더하기\n",
    "        if m == 0: #m이 0이라면 반복문 도출\n",
    "            break\n",
    "        result += first\n",
    "        m -= 1 #더할떄마다 1씩 빼기\n",
    "    if m ==0 : #m이 0이라면 반복문 탈출\n",
    "        break\n",
    "    result += second #두번째로 큰 수를 한번 더하기\n",
    "    m -= 1 #더할때마다 1씩 빼기\n",
    "    \n",
    "print(result)\n"
   ]
  },
  {
   "cell_type": "markdown",
   "id": "bb39c65a",
   "metadata": {},
   "source": [
    "#### 답안"
   ]
  },
  {
   "cell_type": "code",
   "execution_count": 5,
   "id": "26f68372",
   "metadata": {},
   "outputs": [
    {
     "name": "stdout",
     "output_type": "stream",
     "text": [
      "5 8 3\n",
      "2 4 5 4 6\n",
      "46\n"
     ]
    }
   ],
   "source": [
    "n,m,k = map(int, input().split())\n",
    "data = list(map(int, input().split()))\n",
    "\n",
    "data.sort()\n",
    "first = data[n-1]\n",
    "second = data[n-2]\n",
    "\n",
    "count = int(m/(k+1)) * k\n",
    "count += m % (k+1)\n",
    "\n",
    "result = 0\n",
    "result += (count) * first\n",
    "result += (m-count) * second\n",
    "\n",
    "print(result)"
   ]
  },
  {
   "cell_type": "markdown",
   "id": "bf681449",
   "metadata": {},
   "source": [
    "## 3. 숫자카드게임"
   ]
  },
  {
   "cell_type": "markdown",
   "id": "638232e4",
   "metadata": {},
   "source": [
    "#### 3-1. 답안: min()  함수 이용"
   ]
  },
  {
   "cell_type": "code",
   "execution_count": 7,
   "id": "4b97e109",
   "metadata": {},
   "outputs": [
    {
     "name": "stdout",
     "output_type": "stream",
     "text": [
      "3 3\n",
      "3 1 2 \n",
      "4 1 4\n",
      "2 2 2\n",
      "2\n"
     ]
    }
   ],
   "source": [
    "# N. M을 공백으로 구분하여 입력받기\n",
    "n, m = map(int, input().split())\n",
    "\n",
    "result=0\n",
    "#한 줄씩 입력받아 확인\n",
    "for i in range(n):\n",
    "    data = list(map(int, input().split()))\n",
    "    #현재 줄에서 '가장 작은 수 찾기'\n",
    "    min_value = min(data)\n",
    "    #'가장 작은 수'들 중에서 가장 큰 수 찾기\n",
    "    result = max(result, min_value)\n",
    "    \n",
    "print(result)"
   ]
  },
  {
   "cell_type": "markdown",
   "id": "1f5c14b9",
   "metadata": {},
   "source": [
    "#### 3-2. 답안: 2중 반복문 구조 이용"
   ]
  },
  {
   "cell_type": "code",
   "execution_count": 14,
   "id": "2d40b723",
   "metadata": {},
   "outputs": [
    {
     "name": "stdout",
     "output_type": "stream",
     "text": [
      "2 4\n",
      "7 3 1 8\n",
      "3 3 3 4\n",
      "3\n"
     ]
    }
   ],
   "source": [
    "#N, M을 공백으로 구부낳여 입력받기\n",
    "n, m = map(int, input().split())\n",
    "\n",
    "result = 0\n",
    "\n",
    "#한 줄씩 입력받아 확인\n",
    "for i in range(n):\n",
    "    data=list(map(int, input().split()))\n",
    "    #현재 줄에서 '가장 작은 수' 찾기\n",
    "    min_value=10001\n",
    "    for a in data:\n",
    "        min_value = min(min_value, a)\n",
    "    #'가장 작은 수'들 중에서 가장 큰 수 찾기\n",
    "    result=max(result, min_value)\n",
    "    \n",
    "print(result)"
   ]
  },
  {
   "cell_type": "markdown",
   "id": "84d60026",
   "metadata": {},
   "source": [
    "## 4.  1이 될 때 까지"
   ]
  },
  {
   "cell_type": "markdown",
   "id": "da653002",
   "metadata": {},
   "source": [
    "#### 4-1. 단순 예시"
   ]
  },
  {
   "cell_type": "code",
   "execution_count": 18,
   "id": "14c9d10c",
   "metadata": {},
   "outputs": [
    {
     "name": "stdout",
     "output_type": "stream",
     "text": [
      "25 5\n",
      "2\n"
     ]
    }
   ],
   "source": [
    "n, k = map(int, input().split())\n",
    "result = 0\n",
    "\n",
    "#N, K 이상이라면 K로 계쏙 나누기\n",
    "while n>=k:\n",
    "    #N이 K로 나누어 떨어지지 않는다면 N에서 1씩 빼기\n",
    "    while n % k != 0:\n",
    "        n -= 1\n",
    "        result += 1\n",
    "    # K로 나누기\n",
    "    n //= k\n",
    "    result += 1\n",
    "    \n",
    "#마지막으로 남은 수에 대하여 1씩 빼기\n",
    "while n>1 :\n",
    "    n -= 1\n",
    "    result += 1\n",
    "    \n",
    "print(result)"
   ]
  },
  {
   "cell_type": "markdown",
   "id": "01707ecc",
   "metadata": {},
   "source": [
    "#### 4-2. 답안"
   ]
  },
  {
   "cell_type": "code",
   "execution_count": 22,
   "id": "ab16fd67",
   "metadata": {},
   "outputs": [
    {
     "name": "stdout",
     "output_type": "stream",
     "text": [
      "25 5\n",
      "2\n"
     ]
    }
   ],
   "source": [
    "#N, K를 공백으로 구분하여 입력받기\n",
    "n, k = map(int, input().split())\n",
    "result = 0\n",
    "\n",
    "while True:\n",
    "    #(N == K로 나누어떨어지는 수)가 될 떄까지 1씩 빼기\n",
    "    target = (n // k) * k\n",
    "    result += (n - target)\n",
    "    n = target\n",
    "    #N이 K보다 작을 떄(더 이상 나눌 수 없을 때)반복문 탈출\n",
    "    if n < k:\n",
    "        break\n",
    "    #K로 나누기\n",
    "    result += 1\n",
    "    n //= k\n",
    "    \n",
    "#마지막으로 남은 수에 대하여 1씩 빼기\n",
    "result += (n-1)\n",
    "print(result)"
   ]
  }
 ],
 "metadata": {
  "kernelspec": {
   "display_name": "Python 3 (ipykernel)",
   "language": "python",
   "name": "python3"
  },
  "language_info": {
   "codemirror_mode": {
    "name": "ipython",
    "version": 3
   },
   "file_extension": ".py",
   "mimetype": "text/x-python",
   "name": "python",
   "nbconvert_exporter": "python",
   "pygments_lexer": "ipython3",
   "version": "3.11.4"
  }
 },
 "nbformat": 4,
 "nbformat_minor": 5
}
