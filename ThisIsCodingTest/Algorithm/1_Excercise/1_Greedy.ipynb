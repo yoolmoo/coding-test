{
 "cells": [
  {
   "cell_type": "markdown",
   "id": "5e9f4f3b",
   "metadata": {},
   "source": [
    "## 거스름돈"
   ]
  },
  {
   "cell_type": "code",
   "execution_count": 2,
   "id": "1c14357b",
   "metadata": {},
   "outputs": [
    {
     "name": "stdout",
     "output_type": "stream",
     "text": [
      "6\n"
     ]
    }
   ],
   "source": [
    "n = 1260\n",
    "count = 0\n",
    "\n",
    "#큰 단위의 화폐부터 차례대로 확인\n",
    "coin_types = [500, 100, 50, 10]\n",
    "\n",
    "for coin in coin_types:\n",
    "    count += n // coin #해당 화폐로 거슬러 줄 수 있는 동전의 개수 세기\n",
    "                        #count에다가 현재 동전으로 지불할 수 있는 최대 개수(n//coin)를 더한다\n",
    "    n %= coin\n",
    "    \n",
    "print(count)"
   ]
  },
  {
   "cell_type": "markdown",
   "id": "64ba1081",
   "metadata": {},
   "source": [
    "## 큰 수의 법칙"
   ]
  },
  {
   "cell_type": "markdown",
   "id": "42192e86",
   "metadata": {},
   "source": [
    "- map(적용시킬 함수, 적용할 값들)"
   ]
  },
  {
   "cell_type": "markdown",
   "id": "07474862",
   "metadata": {},
   "source": [
    "### 단순하게 푸는 답안 예시"
   ]
  },
  {
   "cell_type": "code",
   "execution_count": 6,
   "id": "7a538da9",
   "metadata": {},
   "outputs": [
    {
     "name": "stdout",
     "output_type": "stream",
     "text": [
      "5 8 3 \n",
      "2 4 5 4 6\n",
      "46\n"
     ]
    }
   ],
   "source": [
    "# n, m, k를 공배긍로 구분하여 입력받기\n",
    "n, m, k = map(int, input().split())\n",
    "\n",
    "#n개의 수를 공백으로 구분하여 입력받기\n",
    "data = list(map(int, input().split()))\n",
    "\n",
    "data.sort() #입력받은 수들 정렬하기\n",
    "first = data[n-1] #가장 큰 수\n",
    "second = data[n-2] # 두번째로 큰 수\n",
    "\n",
    "result = 0\n",
    "\n",
    "while True:\n",
    "    for i in range(k): #가장 큰 수를 k번 더하기\n",
    "        if m == 0: #m이 0이라면 반복문 도출\n",
    "            break\n",
    "        result += first\n",
    "        m -= 1 #더할떄마다 1씩 빼기\n",
    "    if m ==0 : #m이 0이라면 반복문 탈출\n",
    "        break\n",
    "    result += second #두번째로 큰 수를 한번 더하기\n",
    "    m -= 1 #더할때마다 1씩 빼기\n",
    "    \n",
    "print(result)\n"
   ]
  },
  {
   "cell_type": "markdown",
   "id": "bb39c65a",
   "metadata": {},
   "source": [
    "## 답안"
   ]
  },
  {
   "cell_type": "code",
   "execution_count": 8,
   "id": "26f68372",
   "metadata": {},
   "outputs": [
    {
     "name": "stdout",
     "output_type": "stream",
     "text": [
      "5 8 3 \n",
      "2 4 5 4 6\n",
      "46\n"
     ]
    }
   ],
   "source": [
    "n,m,k = map(int, input().split())\n",
    "data = list(map(int, input().split()))\n",
    "\n",
    "data.sort()\n",
    "first = data[n-1]\n",
    "second = data[n-2]\n",
    "\n",
    "count = int(m/(k+1)) * k\n",
    "count += m % (k+1)\n",
    "\n",
    "result = 0\n",
    "result += (count) * first\n",
    "result += (m-count) * second\n",
    "\n",
    "print(result)"
   ]
  },
  {
   "cell_type": "code",
   "execution_count": null,
   "id": "b046938d",
   "metadata": {},
   "outputs": [],
   "source": []
  },
  {
   "cell_type": "code",
   "execution_count": null,
   "id": "4b97e109",
   "metadata": {},
   "outputs": [],
   "source": []
  },
  {
   "cell_type": "code",
   "execution_count": null,
   "id": "2d40b723",
   "metadata": {},
   "outputs": [],
   "source": []
  },
  {
   "cell_type": "code",
   "execution_count": null,
   "id": "722dc140",
   "metadata": {},
   "outputs": [],
   "source": []
  },
  {
   "cell_type": "code",
   "execution_count": null,
   "id": "65ab8f77",
   "metadata": {},
   "outputs": [],
   "source": []
  },
  {
   "cell_type": "code",
   "execution_count": null,
   "id": "14c9d10c",
   "metadata": {},
   "outputs": [],
   "source": []
  }
 ],
 "metadata": {
  "kernelspec": {
   "display_name": "Python 3 (ipykernel)",
   "language": "python",
   "name": "python3"
  },
  "language_info": {
   "codemirror_mode": {
    "name": "ipython",
    "version": 3
   },
   "file_extension": ".py",
   "mimetype": "text/x-python",
   "name": "python",
   "nbconvert_exporter": "python",
   "pygments_lexer": "ipython3",
   "version": "3.11.4"
  }
 },
 "nbformat": 4,
 "nbformat_minor": 5
}
